{
 "cells": [
  {
   "cell_type": "code",
   "execution_count": 1,
   "metadata": {},
   "outputs": [
    {
     "name": "stdout",
     "output_type": "stream",
     "text": [
      "[['Learner1' 50.0 31.0 1]\n",
      " ['Learner2' 50.0 30.0 2]\n",
      " ['Learner3' 50.0 31.0 1]\n",
      " ['Learner4' 50.0 33.0 1]\n",
      " ['Learner5' 49.0 33.0 2]\n",
      " ['Learner6' 50.0 31.0 1]\n",
      " ['Learner7' 50.0 33.0 2]\n",
      " ['Learner8' 49.94117647058823 32.0 0]\n",
      " ['Learner9' 49.94117647058823 29.0 2]\n",
      " ['Learner10' 50.0 28.0 0]\n",
      " ['Learner11' 50.0 29.0 1]\n",
      " ['Learner12' 50.0 32.0 2]\n",
      " ['Learner13' 50.0 34.0 1]\n",
      " ['Learner14' 50.0 37.0 2]\n",
      " ['Learner15' 50.0 31.5 0]\n",
      " ['Learner16' 50.0 31.5 1]\n",
      " ['Learner17' 50.0 31.5 1]\n",
      " ['Learner18' 50.0 29.0 2]\n",
      " ['Learner19' 50.0 32.0 0]]\n"
     ]
    }
   ],
   "source": [
    "\n",
    "# Data Preprocessing\n",
    "\n",
    "# Importing the libraries\n",
    "import numpy as np\n",
    "import matplotlib.pyplot as plt\n",
    "import pandas as pd\n",
    "\n",
    "# Importing the dataset\n",
    "dataset = pd.read_csv('D:/python/ML/MSCITData.csv')\n",
    "X = dataset.iloc[:, :-1].values\n",
    "Y = dataset.iloc[:, 4].values\n",
    "\n",
    "# Taking care of missing data\n",
    "from sklearn.impute import SimpleImputer\n",
    "imputer = SimpleImputer(missing_values=np.nan, strategy='mean')\n",
    "imputer = imputer.fit(X[:, 1:3])\n",
    "X[:, 1:3] = imputer.transform(X[:, 1:3])\n",
    "\n",
    "#Label Encoding or OneHotEncoding for the categorical data\n",
    "\n",
    "from sklearn.preprocessing import LabelEncoder, OneHotEncoder\n",
    "labelencoder_x = LabelEncoder()\n",
    "X[:,3] = labelencoder_x.fit_transform(X[:,3])\n",
    "\n",
    "print(X)\n",
    "\n",
    "# Splitting the dataset into the Training set and Test set\n",
    "\n",
    "from sklearn.model_selection import train_test_split\n",
    "X_train, X_test, Y_train, Y_test = train_test_split(X, Y, test_size = 0.2, random_state = 8)\n",
    "\n",
    "\n",
    "\n",
    "\n"
   ]
  },
  {
   "cell_type": "code",
   "execution_count": null,
   "metadata": {},
   "outputs": [],
   "source": [
    "print()"
   ]
  }
 ],
 "metadata": {
  "kernelspec": {
   "display_name": "Python 3",
   "language": "python",
   "name": "python3"
  },
  "language_info": {
   "codemirror_mode": {
    "name": "ipython",
    "version": 3
   },
   "file_extension": ".py",
   "mimetype": "text/x-python",
   "name": "python",
   "nbconvert_exporter": "python",
   "pygments_lexer": "ipython3",
   "version": "3.7.4"
  }
 },
 "nbformat": 4,
 "nbformat_minor": 2
}
