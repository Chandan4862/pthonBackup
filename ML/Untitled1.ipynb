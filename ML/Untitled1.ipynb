{
 "cells": [
  {
   "cell_type": "code",
   "execution_count": 72,
   "metadata": {},
   "outputs": [
    {
     "data": {
      "text/plain": [
       "array([[2, '*', '*', '*', '*', '*', 2],\n",
       "       [1, '2', '*', '*', '*', '*', 1],\n",
       "       [1, '1', '2', '*', '*', '*', 1],\n",
       "       [1, '1', '1', '*', '*', '*', 1],\n",
       "       [1, '1', '3', '2', '2', '*', 1],\n",
       "       [1, '*', '*', '*', '*', '4', 1],\n",
       "       [2, '1', '4', '*', '*', '1', 1],\n",
       "       [2, '1', '4', '*', '*', '2', 1],\n",
       "       [2, '1', '4', '*', '*', '3', 1],\n",
       "       [2, '1', '3', '1', '1', '1', 1],\n",
       "       [2, '1', '3', '1', '1', '2', 1],\n",
       "       [2, '1', '3', '1', '2', '1', 1],\n",
       "       [2, '1', '3', '1', '2', '2', 1],\n",
       "       [1, '1', '3', '1', '1', '3', 1],\n",
       "       [2, '1', '3', '1', '2', '3', 1]], dtype=object)"
      ]
     },
     "execution_count": 72,
     "metadata": {},
     "output_type": "execute_result"
    }
   ],
   "source": [
    "import pandas as pd\n",
    "import numpy as np\n",
    "dataset= pd.read_csv('shuttle-landing-control.data',names=['col1','col2','col3','col4','col5','col6','col7'])\n",
    "dataset=dataset.values\n",
    "dataset"
   ]
  },
  {
   "cell_type": "code",
   "execution_count": 84,
   "metadata": {},
   "outputs": [
    {
     "name": "stdout",
     "output_type": "stream",
     "text": [
      "{'*': 2, '2': 1, '1': 12}\n",
      "{'*': 3, '2': 1, '1': 1, '3': 7, '4': 3}\n",
      "{'*': 8, '2': 1, '1': 6}\n",
      "{'*': 8, '2': 4, '1': 3}\n",
      "{'*': 5, '4': 1, '1': 3, '2': 3, '3': 3}\n"
     ]
    }
   ],
   "source": [
    "list=[]\n",
    "flag=0\n",
    "for i in range(len(dataset[1])):\n",
    "    list=[]\n",
    "    for j in range(len(dataset)):\n",
    "        list.append(dataset[j][i])\n",
    "        if(dataset[j][i] == '*'):\n",
    "            flag=1\n",
    "    if(flag == 1):\n",
    "        freq= {}\n",
    "        for item in list: \n",
    "                 if (item in freq): \n",
    "                    freq[item] += 1\n",
    "                 else: \n",
    "                    freq[item] = 1\n",
    "        print(freq)\n",
    "    flag =0"
   ]
  },
  {
   "cell_type": "code",
   "execution_count": 65,
   "metadata": {},
   "outputs": [
    {
     "data": {
      "text/plain": [
       "{'chandan': 1}"
      ]
     },
     "execution_count": 65,
     "metadata": {},
     "output_type": "execute_result"
    }
   ],
   "source": [
    "dict={}\n",
    "dict['chandan']=1\n",
    "dict"
   ]
  },
  {
   "cell_type": "code",
   "execution_count": 48,
   "metadata": {
    "scrolled": true
   },
   "outputs": [
    {
     "name": "stdout",
     "output_type": "stream",
     "text": [
      "    Class STABILITY ERROR SIGN WIND MAGNITUDE  VISIBILITY\n",
      "0       2         *     *    *    *         *           2\n",
      "1       1         2     *    *    *         *           1\n",
      "2       1         1     2    *    *         *           1\n",
      "3       1         1     1    *    *         *           1\n",
      "4       1         1     3    2    2         *           1\n",
      "5       1         *     *    *    *         4           1\n",
      "6       2         1     4    *    *         1           1\n",
      "7       2         1     4    *    *         2           1\n",
      "8       2         1     4    *    *         3           1\n",
      "9       2         1     3    1    1         1           1\n",
      "10      2         1     3    1    1         2           1\n",
      "11      2         1     3    1    2         1           1\n",
      "12      2         1     3    1    2         2           1\n",
      "13      1         1     3    1    1         3           1\n",
      "14      2         1     3    1    2         3           1\n"
     ]
    },
    {
     "name": "stderr",
     "output_type": "stream",
     "text": [
      "c:\\users\\chandano\\appdata\\local\\programs\\python\\python37\\lib\\site-packages\\pandas\\core\\ops\\__init__.py:1115: FutureWarning: elementwise comparison failed; returning scalar instead, but in the future will perform elementwise comparison\n",
      "  result = method(y)\n"
     ]
    },
    {
     "data": {
      "text/plain": [
       "0.6"
      ]
     },
     "execution_count": 48,
     "metadata": {},
     "output_type": "execute_result"
    }
   ],
   "source": [
    "import pandas as pd\n",
    "import numpy as np\n",
    "\n",
    "df = pd.read_csv(\"shuttle-landing-control.data\", header=None)\n",
    "df.columns = [\"Class\", \"STABILITY\", \"ERROR\", \"SIGN\", \"WIND\", \"MAGNITUDE\", \"VISIBILITY\"]\n",
    "print(df)\n",
    "#print(np.nan)\n",
    "\n",
    "for singleColumn in df.columns:\n",
    "    #print(len(df[df[singleColumn] == \"*\"]))\n",
    "    df.loc[ df[singleColumn] == \"*\" , [singleColumn]] = 1\n",
    "    df[singleColumn] = df[singleColumn].astype(int)\n",
    "from sklearn.svm import SVC\n",
    "clf = SVC(gamma='auto')\n",
    "clf.fit(df[:10].drop(\"Class\", axis=1) , df[\"Class\"][:10])\n",
    "clf.score(df[10:].drop(\"Class\", axis=1) , df[\"Class\"][10:])"
   ]
  },
  {
   "cell_type": "code",
   "execution_count": null,
   "metadata": {},
   "outputs": [],
   "source": []
  }
 ],
 "metadata": {
  "kernelspec": {
   "display_name": "Python 3",
   "language": "python",
   "name": "python3"
  },
  "language_info": {
   "codemirror_mode": {
    "name": "ipython",
    "version": 3
   },
   "file_extension": ".py",
   "mimetype": "text/x-python",
   "name": "python",
   "nbconvert_exporter": "python",
   "pygments_lexer": "ipython3",
   "version": "3.7.4"
  }
 },
 "nbformat": 4,
 "nbformat_minor": 2
}
